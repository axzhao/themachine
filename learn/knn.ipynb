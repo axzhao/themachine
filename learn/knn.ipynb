{
 "cells": [
  {
   "cell_type": "code",
   "execution_count": 1,
   "metadata": {},
   "outputs": [],
   "source": [
    "from sklearn.neighbors import KNeighborsClassifier\n",
    "x = [[0],[1],[2],[3]]\n",
    "y = [0,0,1,1]\n",
    "estimator = KNeighborsClassifier(n_neighbors=2)\n",
    "estimator.fit(x,y) # 训练模型\n",
    "\n",
    "# estimator.predict([[1]])"
   ]
  },
  {
   "cell_type": "code",
   "execution_count": 2,
   "metadata": {},
   "outputs": [],
   "source": [
    "\n",
    "from sklearn.datasets import load_iris\n",
    "iris = load_iris()\n",
    "print(iris.keys())\n",
    "print(iris.data[0]) # 特征数据\n",
    "print(iris.target)\n",
    "\n",
    "%matplotlib inline\n",
    "import seaborn as sns\n",
    "import matplotlib.pyplot as  plt\n",
    "import pandas as pd\n",
    "\n",
    "iris_d = pd.DataFrame(iris.data, columns=[\"Sepal_Len\", \"Sepal_Width\", \"Petal_Len\", \"Petal_With\"])\n",
    "iris_d[\"Species\"] = iris.target\n",
    "\n",
    "def plot_iris(iris, col1, col2): \n",
    "    # sns.lmplot(x=col1, y=col2, data=iris)\n",
    "    sns.lmplot(x=col1, y=col2, data=iris, hue=\"Species\", fit_reg=False)\n",
    "    plt.xlabel(col1)\n",
    "    plt.ylabel(col2)\n",
    "    plt.title(\"Iris\")\n",
    "    plt.show()\n",
    "\n",
    "plot_iris(iris_d, \"Petal_With\", \"Sepal_Len\")"
   ]
  },
  {
   "cell_type": "code",
   "execution_count": 4,
   "metadata": {},
   "outputs": [
    {
     "data": {
      "text/plain": [
       "<bound method KNeighborsMixin.kneighbors_graph of KNeighborsClassifier(n_neighbors=2)>"
      ]
     },
     "execution_count": 4,
     "metadata": {},
     "output_type": "execute_result"
    }
   ],
   "source": []
  },
  {
   "cell_type": "code",
   "execution_count": null,
   "metadata": {},
   "outputs": [],
   "source": []
  }
 ],
 "metadata": {
  "kernelspec": {
   "display_name": "base",
   "language": "python",
   "name": "python3"
  },
  "language_info": {
   "codemirror_mode": {
    "name": "ipython",
    "version": 3
   },
   "file_extension": ".py",
   "mimetype": "text/x-python",
   "name": "python",
   "nbconvert_exporter": "python",
   "pygments_lexer": "ipython3",
   "version": "3.10.11"
  },
  "orig_nbformat": 4
 },
 "nbformat": 4,
 "nbformat_minor": 2
}
